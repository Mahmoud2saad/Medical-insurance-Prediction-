{
 "cells": [
  {
   "cell_type": "code",
   "execution_count": 1,
   "id": "3a01e83a",
   "metadata": {
    "_cell_guid": "b1076dfc-b9ad-4769-8c92-a6c4dae69d19",
    "_uuid": "8f2839f25d086af736a60e9eeb907d3b93b6e0e5",
    "execution": {
     "iopub.execute_input": "2024-01-21T21:41:21.446232Z",
     "iopub.status.busy": "2024-01-21T21:41:21.445806Z",
     "iopub.status.idle": "2024-01-21T21:41:24.483042Z",
     "shell.execute_reply": "2024-01-21T21:41:24.481717Z"
    },
    "papermill": {
     "duration": 3.055785,
     "end_time": "2024-01-21T21:41:24.486598",
     "exception": false,
     "start_time": "2024-01-21T21:41:21.430813",
     "status": "completed"
    },
    "tags": []
   },
   "outputs": [],
   "source": [
    "import pandas as pd\n",
    "import numpy as np\n",
    "import matplotlib.pyplot as plt\n",
    "import seaborn as sns\n",
    "import plotly.express as px\n",
    "%matplotlib inline\n",
    "\n",
    "import warnings\n",
    "warnings.filterwarnings(\"ignore\")\n",
    "plt.rcParams['figure.figsize'] = (15, 5)\n",
    "plt.style.use('fivethirtyeight')"
   ]
  },
  {
   "cell_type": "code",
   "execution_count": 2,
   "id": "6febe047",
   "metadata": {
    "execution": {
     "iopub.execute_input": "2024-01-21T21:41:24.514862Z",
     "iopub.status.busy": "2024-01-21T21:41:24.514209Z",
     "iopub.status.idle": "2024-01-21T21:41:24.574588Z",
     "shell.execute_reply": "2024-01-21T21:41:24.573453Z"
    },
    "papermill": {
     "duration": 0.077289,
     "end_time": "2024-01-21T21:41:24.577156",
     "exception": false,
     "start_time": "2024-01-21T21:41:24.499867",
     "status": "completed"
    },
    "tags": []
   },
   "outputs": [
    {
     "data": {
      "text/html": [
       "<div>\n",
       "<style scoped>\n",
       "    .dataframe tbody tr th:only-of-type {\n",
       "        vertical-align: middle;\n",
       "    }\n",
       "\n",
       "    .dataframe tbody tr th {\n",
       "        vertical-align: top;\n",
       "    }\n",
       "\n",
       "    .dataframe thead th {\n",
       "        text-align: right;\n",
       "    }\n",
       "</style>\n",
       "<table border=\"1\" class=\"dataframe\">\n",
       "  <thead>\n",
       "    <tr style=\"text-align: right;\">\n",
       "      <th></th>\n",
       "      <th>age</th>\n",
       "      <th>sex</th>\n",
       "      <th>bmi</th>\n",
       "      <th>children</th>\n",
       "      <th>smoker</th>\n",
       "      <th>region</th>\n",
       "      <th>charges</th>\n",
       "    </tr>\n",
       "  </thead>\n",
       "  <tbody>\n",
       "    <tr>\n",
       "      <th>0</th>\n",
       "      <td>19</td>\n",
       "      <td>female</td>\n",
       "      <td>27.900</td>\n",
       "      <td>0</td>\n",
       "      <td>yes</td>\n",
       "      <td>southwest</td>\n",
       "      <td>16884.92400</td>\n",
       "    </tr>\n",
       "    <tr>\n",
       "      <th>1</th>\n",
       "      <td>18</td>\n",
       "      <td>male</td>\n",
       "      <td>33.770</td>\n",
       "      <td>1</td>\n",
       "      <td>no</td>\n",
       "      <td>southeast</td>\n",
       "      <td>1725.55230</td>\n",
       "    </tr>\n",
       "    <tr>\n",
       "      <th>2</th>\n",
       "      <td>28</td>\n",
       "      <td>male</td>\n",
       "      <td>33.000</td>\n",
       "      <td>3</td>\n",
       "      <td>no</td>\n",
       "      <td>southeast</td>\n",
       "      <td>4449.46200</td>\n",
       "    </tr>\n",
       "    <tr>\n",
       "      <th>3</th>\n",
       "      <td>33</td>\n",
       "      <td>male</td>\n",
       "      <td>22.705</td>\n",
       "      <td>0</td>\n",
       "      <td>no</td>\n",
       "      <td>northwest</td>\n",
       "      <td>21984.47061</td>\n",
       "    </tr>\n",
       "    <tr>\n",
       "      <th>4</th>\n",
       "      <td>32</td>\n",
       "      <td>male</td>\n",
       "      <td>28.880</td>\n",
       "      <td>0</td>\n",
       "      <td>no</td>\n",
       "      <td>northwest</td>\n",
       "      <td>3866.85520</td>\n",
       "    </tr>\n",
       "    <tr>\n",
       "      <th>...</th>\n",
       "      <td>...</td>\n",
       "      <td>...</td>\n",
       "      <td>...</td>\n",
       "      <td>...</td>\n",
       "      <td>...</td>\n",
       "      <td>...</td>\n",
       "      <td>...</td>\n",
       "    </tr>\n",
       "    <tr>\n",
       "      <th>1333</th>\n",
       "      <td>50</td>\n",
       "      <td>male</td>\n",
       "      <td>30.970</td>\n",
       "      <td>3</td>\n",
       "      <td>no</td>\n",
       "      <td>northwest</td>\n",
       "      <td>10600.54830</td>\n",
       "    </tr>\n",
       "    <tr>\n",
       "      <th>1334</th>\n",
       "      <td>18</td>\n",
       "      <td>female</td>\n",
       "      <td>31.920</td>\n",
       "      <td>0</td>\n",
       "      <td>no</td>\n",
       "      <td>northeast</td>\n",
       "      <td>2205.98080</td>\n",
       "    </tr>\n",
       "    <tr>\n",
       "      <th>1335</th>\n",
       "      <td>18</td>\n",
       "      <td>female</td>\n",
       "      <td>36.850</td>\n",
       "      <td>0</td>\n",
       "      <td>no</td>\n",
       "      <td>southeast</td>\n",
       "      <td>1629.83350</td>\n",
       "    </tr>\n",
       "    <tr>\n",
       "      <th>1336</th>\n",
       "      <td>21</td>\n",
       "      <td>female</td>\n",
       "      <td>25.800</td>\n",
       "      <td>0</td>\n",
       "      <td>no</td>\n",
       "      <td>southwest</td>\n",
       "      <td>2007.94500</td>\n",
       "    </tr>\n",
       "    <tr>\n",
       "      <th>1337</th>\n",
       "      <td>61</td>\n",
       "      <td>female</td>\n",
       "      <td>29.070</td>\n",
       "      <td>0</td>\n",
       "      <td>yes</td>\n",
       "      <td>northwest</td>\n",
       "      <td>29141.36030</td>\n",
       "    </tr>\n",
       "  </tbody>\n",
       "</table>\n",
       "<p>1338 rows × 7 columns</p>\n",
       "</div>"
      ],
      "text/plain": [
       "      age     sex     bmi  children smoker     region      charges\n",
       "0      19  female  27.900         0    yes  southwest  16884.92400\n",
       "1      18    male  33.770         1     no  southeast   1725.55230\n",
       "2      28    male  33.000         3     no  southeast   4449.46200\n",
       "3      33    male  22.705         0     no  northwest  21984.47061\n",
       "4      32    male  28.880         0     no  northwest   3866.85520\n",
       "...   ...     ...     ...       ...    ...        ...          ...\n",
       "1333   50    male  30.970         3     no  northwest  10600.54830\n",
       "1334   18  female  31.920         0     no  northeast   2205.98080\n",
       "1335   18  female  36.850         0     no  southeast   1629.83350\n",
       "1336   21  female  25.800         0     no  southwest   2007.94500\n",
       "1337   61  female  29.070         0    yes  northwest  29141.36030\n",
       "\n",
       "[1338 rows x 7 columns]"
      ]
     },
     "execution_count": 2,
     "metadata": {},
     "output_type": "execute_result"
    }
   ],
   "source": [
    "data = pd.read_csv('/kaggle/input/health-insurance-dataset/Health_insurance.csv')\n",
    "data"
   ]
  },
  {
   "cell_type": "code",
   "execution_count": 3,
   "id": "6cc3b987",
   "metadata": {
    "execution": {
     "iopub.execute_input": "2024-01-21T21:41:24.605459Z",
     "iopub.status.busy": "2024-01-21T21:41:24.604713Z",
     "iopub.status.idle": "2024-01-21T21:41:24.618664Z",
     "shell.execute_reply": "2024-01-21T21:41:24.617456Z"
    },
    "papermill": {
     "duration": 0.030723,
     "end_time": "2024-01-21T21:41:24.621184",
     "exception": false,
     "start_time": "2024-01-21T21:41:24.590461",
     "status": "completed"
    },
    "tags": []
   },
   "outputs": [
    {
     "data": {
      "text/html": [
       "<div>\n",
       "<style scoped>\n",
       "    .dataframe tbody tr th:only-of-type {\n",
       "        vertical-align: middle;\n",
       "    }\n",
       "\n",
       "    .dataframe tbody tr th {\n",
       "        vertical-align: top;\n",
       "    }\n",
       "\n",
       "    .dataframe thead th {\n",
       "        text-align: right;\n",
       "    }\n",
       "</style>\n",
       "<table border=\"1\" class=\"dataframe\">\n",
       "  <thead>\n",
       "    <tr style=\"text-align: right;\">\n",
       "      <th></th>\n",
       "      <th>age</th>\n",
       "      <th>sex</th>\n",
       "      <th>bmi</th>\n",
       "      <th>children</th>\n",
       "      <th>smoker</th>\n",
       "      <th>region</th>\n",
       "      <th>charges</th>\n",
       "    </tr>\n",
       "  </thead>\n",
       "  <tbody>\n",
       "    <tr>\n",
       "      <th>0</th>\n",
       "      <td>19</td>\n",
       "      <td>female</td>\n",
       "      <td>27.900</td>\n",
       "      <td>0</td>\n",
       "      <td>yes</td>\n",
       "      <td>southwest</td>\n",
       "      <td>16884.92400</td>\n",
       "    </tr>\n",
       "    <tr>\n",
       "      <th>1</th>\n",
       "      <td>18</td>\n",
       "      <td>male</td>\n",
       "      <td>33.770</td>\n",
       "      <td>1</td>\n",
       "      <td>no</td>\n",
       "      <td>southeast</td>\n",
       "      <td>1725.55230</td>\n",
       "    </tr>\n",
       "    <tr>\n",
       "      <th>2</th>\n",
       "      <td>28</td>\n",
       "      <td>male</td>\n",
       "      <td>33.000</td>\n",
       "      <td>3</td>\n",
       "      <td>no</td>\n",
       "      <td>southeast</td>\n",
       "      <td>4449.46200</td>\n",
       "    </tr>\n",
       "    <tr>\n",
       "      <th>3</th>\n",
       "      <td>33</td>\n",
       "      <td>male</td>\n",
       "      <td>22.705</td>\n",
       "      <td>0</td>\n",
       "      <td>no</td>\n",
       "      <td>northwest</td>\n",
       "      <td>21984.47061</td>\n",
       "    </tr>\n",
       "    <tr>\n",
       "      <th>4</th>\n",
       "      <td>32</td>\n",
       "      <td>male</td>\n",
       "      <td>28.880</td>\n",
       "      <td>0</td>\n",
       "      <td>no</td>\n",
       "      <td>northwest</td>\n",
       "      <td>3866.85520</td>\n",
       "    </tr>\n",
       "  </tbody>\n",
       "</table>\n",
       "</div>"
      ],
      "text/plain": [
       "   age     sex     bmi  children smoker     region      charges\n",
       "0   19  female  27.900         0    yes  southwest  16884.92400\n",
       "1   18    male  33.770         1     no  southeast   1725.55230\n",
       "2   28    male  33.000         3     no  southeast   4449.46200\n",
       "3   33    male  22.705         0     no  northwest  21984.47061\n",
       "4   32    male  28.880         0     no  northwest   3866.85520"
      ]
     },
     "execution_count": 3,
     "metadata": {},
     "output_type": "execute_result"
    }
   ],
   "source": [
    "data.head()"
   ]
  },
  {
   "cell_type": "code",
   "execution_count": 4,
   "id": "1f27d28e",
   "metadata": {
    "execution": {
     "iopub.execute_input": "2024-01-21T21:41:24.650233Z",
     "iopub.status.busy": "2024-01-21T21:41:24.649827Z",
     "iopub.status.idle": "2024-01-21T21:41:24.680138Z",
     "shell.execute_reply": "2024-01-21T21:41:24.678192Z"
    },
    "papermill": {
     "duration": 0.048179,
     "end_time": "2024-01-21T21:41:24.682728",
     "exception": false,
     "start_time": "2024-01-21T21:41:24.634549",
     "status": "completed"
    },
    "tags": []
   },
   "outputs": [
    {
     "name": "stdout",
     "output_type": "stream",
     "text": [
      "<class 'pandas.core.frame.DataFrame'>\n",
      "RangeIndex: 1338 entries, 0 to 1337\n",
      "Data columns (total 7 columns):\n",
      " #   Column    Non-Null Count  Dtype  \n",
      "---  ------    --------------  -----  \n",
      " 0   age       1338 non-null   int64  \n",
      " 1   sex       1338 non-null   object \n",
      " 2   bmi       1338 non-null   float64\n",
      " 3   children  1338 non-null   int64  \n",
      " 4   smoker    1338 non-null   object \n",
      " 5   region    1338 non-null   object \n",
      " 6   charges   1338 non-null   float64\n",
      "dtypes: float64(2), int64(2), object(3)\n",
      "memory usage: 73.3+ KB\n"
     ]
    }
   ],
   "source": [
    "data.info()"
   ]
  },
  {
   "cell_type": "markdown",
   "id": "9434017b",
   "metadata": {
    "papermill": {
     "duration": 0.013425,
     "end_time": "2024-01-21T21:41:24.709922",
     "exception": false,
     "start_time": "2024-01-21T21:41:24.696497",
     "status": "completed"
    },
    "tags": []
   },
   "source": [
    "More Details about the Data "
   ]
  },
  {
   "cell_type": "code",
   "execution_count": 5,
   "id": "58f1fae9",
   "metadata": {
    "execution": {
     "iopub.execute_input": "2024-01-21T21:41:24.739091Z",
     "iopub.status.busy": "2024-01-21T21:41:24.738656Z",
     "iopub.status.idle": "2024-01-21T21:41:24.765274Z",
     "shell.execute_reply": "2024-01-21T21:41:24.763764Z"
    },
    "papermill": {
     "duration": 0.044065,
     "end_time": "2024-01-21T21:41:24.767910",
     "exception": false,
     "start_time": "2024-01-21T21:41:24.723845",
     "status": "completed"
    },
    "tags": []
   },
   "outputs": [
    {
     "data": {
      "text/html": [
       "<div>\n",
       "<style scoped>\n",
       "    .dataframe tbody tr th:only-of-type {\n",
       "        vertical-align: middle;\n",
       "    }\n",
       "\n",
       "    .dataframe tbody tr th {\n",
       "        vertical-align: top;\n",
       "    }\n",
       "\n",
       "    .dataframe thead th {\n",
       "        text-align: right;\n",
       "    }\n",
       "</style>\n",
       "<table border=\"1\" class=\"dataframe\">\n",
       "  <thead>\n",
       "    <tr style=\"text-align: right;\">\n",
       "      <th></th>\n",
       "      <th>age</th>\n",
       "      <th>bmi</th>\n",
       "      <th>children</th>\n",
       "      <th>charges</th>\n",
       "    </tr>\n",
       "  </thead>\n",
       "  <tbody>\n",
       "    <tr>\n",
       "      <th>count</th>\n",
       "      <td>1338.000000</td>\n",
       "      <td>1338.000000</td>\n",
       "      <td>1338.000000</td>\n",
       "      <td>1338.000000</td>\n",
       "    </tr>\n",
       "    <tr>\n",
       "      <th>mean</th>\n",
       "      <td>39.207025</td>\n",
       "      <td>30.663397</td>\n",
       "      <td>1.094918</td>\n",
       "      <td>13270.422265</td>\n",
       "    </tr>\n",
       "    <tr>\n",
       "      <th>std</th>\n",
       "      <td>14.049960</td>\n",
       "      <td>6.098187</td>\n",
       "      <td>1.205493</td>\n",
       "      <td>12110.011237</td>\n",
       "    </tr>\n",
       "    <tr>\n",
       "      <th>min</th>\n",
       "      <td>18.000000</td>\n",
       "      <td>15.960000</td>\n",
       "      <td>0.000000</td>\n",
       "      <td>1121.873900</td>\n",
       "    </tr>\n",
       "    <tr>\n",
       "      <th>25%</th>\n",
       "      <td>27.000000</td>\n",
       "      <td>26.296250</td>\n",
       "      <td>0.000000</td>\n",
       "      <td>4740.287150</td>\n",
       "    </tr>\n",
       "    <tr>\n",
       "      <th>50%</th>\n",
       "      <td>39.000000</td>\n",
       "      <td>30.400000</td>\n",
       "      <td>1.000000</td>\n",
       "      <td>9382.033000</td>\n",
       "    </tr>\n",
       "    <tr>\n",
       "      <th>75%</th>\n",
       "      <td>51.000000</td>\n",
       "      <td>34.693750</td>\n",
       "      <td>2.000000</td>\n",
       "      <td>16639.912515</td>\n",
       "    </tr>\n",
       "    <tr>\n",
       "      <th>max</th>\n",
       "      <td>64.000000</td>\n",
       "      <td>53.130000</td>\n",
       "      <td>5.000000</td>\n",
       "      <td>63770.428010</td>\n",
       "    </tr>\n",
       "  </tbody>\n",
       "</table>\n",
       "</div>"
      ],
      "text/plain": [
       "               age          bmi     children       charges\n",
       "count  1338.000000  1338.000000  1338.000000   1338.000000\n",
       "mean     39.207025    30.663397     1.094918  13270.422265\n",
       "std      14.049960     6.098187     1.205493  12110.011237\n",
       "min      18.000000    15.960000     0.000000   1121.873900\n",
       "25%      27.000000    26.296250     0.000000   4740.287150\n",
       "50%      39.000000    30.400000     1.000000   9382.033000\n",
       "75%      51.000000    34.693750     2.000000  16639.912515\n",
       "max      64.000000    53.130000     5.000000  63770.428010"
      ]
     },
     "execution_count": 5,
     "metadata": {},
     "output_type": "execute_result"
    }
   ],
   "source": [
    "data.describe()"
   ]
  },
  {
   "cell_type": "code",
   "execution_count": 6,
   "id": "2559718d",
   "metadata": {
    "execution": {
     "iopub.execute_input": "2024-01-21T21:41:24.798041Z",
     "iopub.status.busy": "2024-01-21T21:41:24.797486Z",
     "iopub.status.idle": "2024-01-21T21:41:24.840839Z",
     "shell.execute_reply": "2024-01-21T21:41:24.839700Z"
    },
    "papermill": {
     "duration": 0.0613,
     "end_time": "2024-01-21T21:41:24.843504",
     "exception": false,
     "start_time": "2024-01-21T21:41:24.782204",
     "status": "completed"
    },
    "tags": []
   },
   "outputs": [
    {
     "data": {
      "text/html": [
       "<div>\n",
       "<style scoped>\n",
       "    .dataframe tbody tr th:only-of-type {\n",
       "        vertical-align: middle;\n",
       "    }\n",
       "\n",
       "    .dataframe tbody tr th {\n",
       "        vertical-align: top;\n",
       "    }\n",
       "\n",
       "    .dataframe thead th {\n",
       "        text-align: right;\n",
       "    }\n",
       "</style>\n",
       "<table border=\"1\" class=\"dataframe\">\n",
       "  <thead>\n",
       "    <tr style=\"text-align: right;\">\n",
       "      <th>sex</th>\n",
       "      <th>female</th>\n",
       "      <th>male</th>\n",
       "    </tr>\n",
       "  </thead>\n",
       "  <tbody>\n",
       "    <tr>\n",
       "      <th>count</th>\n",
       "      <td>662.000000</td>\n",
       "      <td>676.000000</td>\n",
       "    </tr>\n",
       "    <tr>\n",
       "      <th>mean</th>\n",
       "      <td>12569.578844</td>\n",
       "      <td>13956.751178</td>\n",
       "    </tr>\n",
       "    <tr>\n",
       "      <th>std</th>\n",
       "      <td>11128.703801</td>\n",
       "      <td>12971.025915</td>\n",
       "    </tr>\n",
       "    <tr>\n",
       "      <th>min</th>\n",
       "      <td>1607.510100</td>\n",
       "      <td>1121.873900</td>\n",
       "    </tr>\n",
       "    <tr>\n",
       "      <th>25%</th>\n",
       "      <td>4885.158700</td>\n",
       "      <td>4619.134000</td>\n",
       "    </tr>\n",
       "    <tr>\n",
       "      <th>50%</th>\n",
       "      <td>9412.962500</td>\n",
       "      <td>9369.615750</td>\n",
       "    </tr>\n",
       "    <tr>\n",
       "      <th>75%</th>\n",
       "      <td>14454.691825</td>\n",
       "      <td>18989.590250</td>\n",
       "    </tr>\n",
       "    <tr>\n",
       "      <th>max</th>\n",
       "      <td>63770.428010</td>\n",
       "      <td>62592.873090</td>\n",
       "    </tr>\n",
       "  </tbody>\n",
       "</table>\n",
       "</div>"
      ],
      "text/plain": [
       "sex          female          male\n",
       "count    662.000000    676.000000\n",
       "mean   12569.578844  13956.751178\n",
       "std    11128.703801  12971.025915\n",
       "min     1607.510100   1121.873900\n",
       "25%     4885.158700   4619.134000\n",
       "50%     9412.962500   9369.615750\n",
       "75%    14454.691825  18989.590250\n",
       "max    63770.428010  62592.873090"
      ]
     },
     "execution_count": 6,
     "metadata": {},
     "output_type": "execute_result"
    }
   ],
   "source": [
    "data.groupby('sex').describe()['charges'].transpose()"
   ]
  },
  {
   "cell_type": "code",
   "execution_count": 7,
   "id": "a6931641",
   "metadata": {
    "execution": {
     "iopub.execute_input": "2024-01-21T21:41:24.873779Z",
     "iopub.status.busy": "2024-01-21T21:41:24.873340Z",
     "iopub.status.idle": "2024-01-21T21:41:24.909768Z",
     "shell.execute_reply": "2024-01-21T21:41:24.908925Z"
    },
    "papermill": {
     "duration": 0.054093,
     "end_time": "2024-01-21T21:41:24.912188",
     "exception": false,
     "start_time": "2024-01-21T21:41:24.858095",
     "status": "completed"
    },
    "tags": []
   },
   "outputs": [
    {
     "data": {
      "text/html": [
       "<div>\n",
       "<style scoped>\n",
       "    .dataframe tbody tr th:only-of-type {\n",
       "        vertical-align: middle;\n",
       "    }\n",
       "\n",
       "    .dataframe tbody tr th {\n",
       "        vertical-align: top;\n",
       "    }\n",
       "\n",
       "    .dataframe thead th {\n",
       "        text-align: right;\n",
       "    }\n",
       "</style>\n",
       "<table border=\"1\" class=\"dataframe\">\n",
       "  <thead>\n",
       "    <tr style=\"text-align: right;\">\n",
       "      <th>smoker</th>\n",
       "      <th>no</th>\n",
       "      <th>yes</th>\n",
       "    </tr>\n",
       "  </thead>\n",
       "  <tbody>\n",
       "    <tr>\n",
       "      <th>count</th>\n",
       "      <td>1064.000000</td>\n",
       "      <td>274.000000</td>\n",
       "    </tr>\n",
       "    <tr>\n",
       "      <th>mean</th>\n",
       "      <td>8434.268298</td>\n",
       "      <td>32050.231832</td>\n",
       "    </tr>\n",
       "    <tr>\n",
       "      <th>std</th>\n",
       "      <td>5993.781819</td>\n",
       "      <td>11541.547176</td>\n",
       "    </tr>\n",
       "    <tr>\n",
       "      <th>min</th>\n",
       "      <td>1121.873900</td>\n",
       "      <td>12829.455100</td>\n",
       "    </tr>\n",
       "    <tr>\n",
       "      <th>25%</th>\n",
       "      <td>3986.438700</td>\n",
       "      <td>20826.244213</td>\n",
       "    </tr>\n",
       "    <tr>\n",
       "      <th>50%</th>\n",
       "      <td>7345.405300</td>\n",
       "      <td>34456.348450</td>\n",
       "    </tr>\n",
       "    <tr>\n",
       "      <th>75%</th>\n",
       "      <td>11362.887050</td>\n",
       "      <td>41019.207275</td>\n",
       "    </tr>\n",
       "    <tr>\n",
       "      <th>max</th>\n",
       "      <td>36910.608030</td>\n",
       "      <td>63770.428010</td>\n",
       "    </tr>\n",
       "  </tbody>\n",
       "</table>\n",
       "</div>"
      ],
      "text/plain": [
       "smoker            no           yes\n",
       "count    1064.000000    274.000000\n",
       "mean     8434.268298  32050.231832\n",
       "std      5993.781819  11541.547176\n",
       "min      1121.873900  12829.455100\n",
       "25%      3986.438700  20826.244213\n",
       "50%      7345.405300  34456.348450\n",
       "75%     11362.887050  41019.207275\n",
       "max     36910.608030  63770.428010"
      ]
     },
     "execution_count": 7,
     "metadata": {},
     "output_type": "execute_result"
    }
   ],
   "source": [
    "data.groupby('smoker').describe()['charges'].transpose()"
   ]
  },
  {
   "cell_type": "code",
   "execution_count": 8,
   "id": "6b1ab394",
   "metadata": {
    "execution": {
     "iopub.execute_input": "2024-01-21T21:41:24.942387Z",
     "iopub.status.busy": "2024-01-21T21:41:24.941991Z",
     "iopub.status.idle": "2024-01-21T21:41:24.996130Z",
     "shell.execute_reply": "2024-01-21T21:41:24.995285Z"
    },
    "papermill": {
     "duration": 0.071909,
     "end_time": "2024-01-21T21:41:24.998378",
     "exception": false,
     "start_time": "2024-01-21T21:41:24.926469",
     "status": "completed"
    },
    "tags": []
   },
   "outputs": [
    {
     "data": {
      "text/html": [
       "<div>\n",
       "<style scoped>\n",
       "    .dataframe tbody tr th:only-of-type {\n",
       "        vertical-align: middle;\n",
       "    }\n",
       "\n",
       "    .dataframe tbody tr th {\n",
       "        vertical-align: top;\n",
       "    }\n",
       "\n",
       "    .dataframe thead th {\n",
       "        text-align: right;\n",
       "    }\n",
       "</style>\n",
       "<table border=\"1\" class=\"dataframe\">\n",
       "  <thead>\n",
       "    <tr style=\"text-align: right;\">\n",
       "      <th>region</th>\n",
       "      <th>northeast</th>\n",
       "      <th>northwest</th>\n",
       "      <th>southeast</th>\n",
       "      <th>southwest</th>\n",
       "    </tr>\n",
       "  </thead>\n",
       "  <tbody>\n",
       "    <tr>\n",
       "      <th>count</th>\n",
       "      <td>324.000000</td>\n",
       "      <td>325.000000</td>\n",
       "      <td>364.000000</td>\n",
       "      <td>325.000000</td>\n",
       "    </tr>\n",
       "    <tr>\n",
       "      <th>mean</th>\n",
       "      <td>13406.384516</td>\n",
       "      <td>12417.575374</td>\n",
       "      <td>14735.411438</td>\n",
       "      <td>12346.937377</td>\n",
       "    </tr>\n",
       "    <tr>\n",
       "      <th>std</th>\n",
       "      <td>11255.803066</td>\n",
       "      <td>11072.276928</td>\n",
       "      <td>13971.098589</td>\n",
       "      <td>11557.179101</td>\n",
       "    </tr>\n",
       "    <tr>\n",
       "      <th>min</th>\n",
       "      <td>1694.796400</td>\n",
       "      <td>1621.340200</td>\n",
       "      <td>1121.873900</td>\n",
       "      <td>1241.565000</td>\n",
       "    </tr>\n",
       "    <tr>\n",
       "      <th>25%</th>\n",
       "      <td>5194.322288</td>\n",
       "      <td>4719.736550</td>\n",
       "      <td>4440.886200</td>\n",
       "      <td>4751.070000</td>\n",
       "    </tr>\n",
       "    <tr>\n",
       "      <th>50%</th>\n",
       "      <td>10057.652025</td>\n",
       "      <td>8965.795750</td>\n",
       "      <td>9294.131950</td>\n",
       "      <td>8798.593000</td>\n",
       "    </tr>\n",
       "    <tr>\n",
       "      <th>75%</th>\n",
       "      <td>16687.364100</td>\n",
       "      <td>14711.743800</td>\n",
       "      <td>19526.286900</td>\n",
       "      <td>13462.520000</td>\n",
       "    </tr>\n",
       "    <tr>\n",
       "      <th>max</th>\n",
       "      <td>58571.074480</td>\n",
       "      <td>60021.398970</td>\n",
       "      <td>63770.428010</td>\n",
       "      <td>52590.829390</td>\n",
       "    </tr>\n",
       "  </tbody>\n",
       "</table>\n",
       "</div>"
      ],
      "text/plain": [
       "region     northeast     northwest     southeast     southwest\n",
       "count     324.000000    325.000000    364.000000    325.000000\n",
       "mean    13406.384516  12417.575374  14735.411438  12346.937377\n",
       "std     11255.803066  11072.276928  13971.098589  11557.179101\n",
       "min      1694.796400   1621.340200   1121.873900   1241.565000\n",
       "25%      5194.322288   4719.736550   4440.886200   4751.070000\n",
       "50%     10057.652025   8965.795750   9294.131950   8798.593000\n",
       "75%     16687.364100  14711.743800  19526.286900  13462.520000\n",
       "max     58571.074480  60021.398970  63770.428010  52590.829390"
      ]
     },
     "execution_count": 8,
     "metadata": {},
     "output_type": "execute_result"
    }
   ],
   "source": [
    "data.groupby('region').describe()['charges'].transpose()"
   ]
  },
  {
   "cell_type": "code",
   "execution_count": 9,
   "id": "5d0b6b48",
   "metadata": {
    "execution": {
     "iopub.execute_input": "2024-01-21T21:41:25.030013Z",
     "iopub.status.busy": "2024-01-21T21:41:25.029061Z",
     "iopub.status.idle": "2024-01-21T21:41:25.066426Z",
     "shell.execute_reply": "2024-01-21T21:41:25.065204Z"
    },
    "papermill": {
     "duration": 0.056245,
     "end_time": "2024-01-21T21:41:25.069037",
     "exception": false,
     "start_time": "2024-01-21T21:41:25.012792",
     "status": "completed"
    },
    "tags": []
   },
   "outputs": [
    {
     "data": {
      "text/html": [
       "<div>\n",
       "<style scoped>\n",
       "    .dataframe tbody tr th:only-of-type {\n",
       "        vertical-align: middle;\n",
       "    }\n",
       "\n",
       "    .dataframe tbody tr th {\n",
       "        vertical-align: top;\n",
       "    }\n",
       "\n",
       "    .dataframe thead th {\n",
       "        text-align: right;\n",
       "    }\n",
       "</style>\n",
       "<table border=\"1\" class=\"dataframe\">\n",
       "  <thead>\n",
       "    <tr style=\"text-align: right;\">\n",
       "      <th>sex</th>\n",
       "      <th>female</th>\n",
       "      <th>male</th>\n",
       "    </tr>\n",
       "  </thead>\n",
       "  <tbody>\n",
       "    <tr>\n",
       "      <th>count</th>\n",
       "      <td>662.000000</td>\n",
       "      <td>676.000000</td>\n",
       "    </tr>\n",
       "    <tr>\n",
       "      <th>mean</th>\n",
       "      <td>30.377749</td>\n",
       "      <td>30.943129</td>\n",
       "    </tr>\n",
       "    <tr>\n",
       "      <th>std</th>\n",
       "      <td>6.046023</td>\n",
       "      <td>6.140435</td>\n",
       "    </tr>\n",
       "    <tr>\n",
       "      <th>min</th>\n",
       "      <td>16.815000</td>\n",
       "      <td>15.960000</td>\n",
       "    </tr>\n",
       "    <tr>\n",
       "      <th>25%</th>\n",
       "      <td>26.125000</td>\n",
       "      <td>26.410000</td>\n",
       "    </tr>\n",
       "    <tr>\n",
       "      <th>50%</th>\n",
       "      <td>30.107500</td>\n",
       "      <td>30.687500</td>\n",
       "    </tr>\n",
       "    <tr>\n",
       "      <th>75%</th>\n",
       "      <td>34.313750</td>\n",
       "      <td>34.992500</td>\n",
       "    </tr>\n",
       "    <tr>\n",
       "      <th>max</th>\n",
       "      <td>48.070000</td>\n",
       "      <td>53.130000</td>\n",
       "    </tr>\n",
       "  </tbody>\n",
       "</table>\n",
       "</div>"
      ],
      "text/plain": [
       "sex        female        male\n",
       "count  662.000000  676.000000\n",
       "mean    30.377749   30.943129\n",
       "std      6.046023    6.140435\n",
       "min     16.815000   15.960000\n",
       "25%     26.125000   26.410000\n",
       "50%     30.107500   30.687500\n",
       "75%     34.313750   34.992500\n",
       "max     48.070000   53.130000"
      ]
     },
     "execution_count": 9,
     "metadata": {},
     "output_type": "execute_result"
    }
   ],
   "source": [
    "data.groupby('sex').describe()['bmi'].transpose()"
   ]
  },
  {
   "cell_type": "code",
   "execution_count": 10,
   "id": "03c38692",
   "metadata": {
    "execution": {
     "iopub.execute_input": "2024-01-21T21:41:25.100255Z",
     "iopub.status.busy": "2024-01-21T21:41:25.099832Z",
     "iopub.status.idle": "2024-01-21T21:41:25.136251Z",
     "shell.execute_reply": "2024-01-21T21:41:25.135067Z"
    },
    "papermill": {
     "duration": 0.055066,
     "end_time": "2024-01-21T21:41:25.138792",
     "exception": false,
     "start_time": "2024-01-21T21:41:25.083726",
     "status": "completed"
    },
    "tags": []
   },
   "outputs": [
    {
     "data": {
      "text/html": [
       "<div>\n",
       "<style scoped>\n",
       "    .dataframe tbody tr th:only-of-type {\n",
       "        vertical-align: middle;\n",
       "    }\n",
       "\n",
       "    .dataframe tbody tr th {\n",
       "        vertical-align: top;\n",
       "    }\n",
       "\n",
       "    .dataframe thead th {\n",
       "        text-align: right;\n",
       "    }\n",
       "</style>\n",
       "<table border=\"1\" class=\"dataframe\">\n",
       "  <thead>\n",
       "    <tr style=\"text-align: right;\">\n",
       "      <th>smoker</th>\n",
       "      <th>no</th>\n",
       "      <th>yes</th>\n",
       "    </tr>\n",
       "  </thead>\n",
       "  <tbody>\n",
       "    <tr>\n",
       "      <th>count</th>\n",
       "      <td>1064.000000</td>\n",
       "      <td>274.000000</td>\n",
       "    </tr>\n",
       "    <tr>\n",
       "      <th>mean</th>\n",
       "      <td>30.651795</td>\n",
       "      <td>30.708449</td>\n",
       "    </tr>\n",
       "    <tr>\n",
       "      <th>std</th>\n",
       "      <td>6.043111</td>\n",
       "      <td>6.318644</td>\n",
       "    </tr>\n",
       "    <tr>\n",
       "      <th>min</th>\n",
       "      <td>15.960000</td>\n",
       "      <td>17.195000</td>\n",
       "    </tr>\n",
       "    <tr>\n",
       "      <th>25%</th>\n",
       "      <td>26.315000</td>\n",
       "      <td>26.083750</td>\n",
       "    </tr>\n",
       "    <tr>\n",
       "      <th>50%</th>\n",
       "      <td>30.352500</td>\n",
       "      <td>30.447500</td>\n",
       "    </tr>\n",
       "    <tr>\n",
       "      <th>75%</th>\n",
       "      <td>34.430000</td>\n",
       "      <td>35.200000</td>\n",
       "    </tr>\n",
       "    <tr>\n",
       "      <th>max</th>\n",
       "      <td>53.130000</td>\n",
       "      <td>52.580000</td>\n",
       "    </tr>\n",
       "  </tbody>\n",
       "</table>\n",
       "</div>"
      ],
      "text/plain": [
       "smoker           no         yes\n",
       "count   1064.000000  274.000000\n",
       "mean      30.651795   30.708449\n",
       "std        6.043111    6.318644\n",
       "min       15.960000   17.195000\n",
       "25%       26.315000   26.083750\n",
       "50%       30.352500   30.447500\n",
       "75%       34.430000   35.200000\n",
       "max       53.130000   52.580000"
      ]
     },
     "execution_count": 10,
     "metadata": {},
     "output_type": "execute_result"
    }
   ],
   "source": [
    "data.groupby('smoker').describe()['bmi'].transpose()"
   ]
  },
  {
   "cell_type": "code",
   "execution_count": 11,
   "id": "c2365c92",
   "metadata": {
    "execution": {
     "iopub.execute_input": "2024-01-21T21:41:25.171253Z",
     "iopub.status.busy": "2024-01-21T21:41:25.170826Z",
     "iopub.status.idle": "2024-01-21T21:41:25.230647Z",
     "shell.execute_reply": "2024-01-21T21:41:25.229511Z"
    },
    "papermill": {
     "duration": 0.079085,
     "end_time": "2024-01-21T21:41:25.233153",
     "exception": false,
     "start_time": "2024-01-21T21:41:25.154068",
     "status": "completed"
    },
    "tags": []
   },
   "outputs": [
    {
     "data": {
      "text/html": [
       "<div>\n",
       "<style scoped>\n",
       "    .dataframe tbody tr th:only-of-type {\n",
       "        vertical-align: middle;\n",
       "    }\n",
       "\n",
       "    .dataframe tbody tr th {\n",
       "        vertical-align: top;\n",
       "    }\n",
       "\n",
       "    .dataframe thead th {\n",
       "        text-align: right;\n",
       "    }\n",
       "</style>\n",
       "<table border=\"1\" class=\"dataframe\">\n",
       "  <thead>\n",
       "    <tr style=\"text-align: right;\">\n",
       "      <th>region</th>\n",
       "      <th>northeast</th>\n",
       "      <th>northwest</th>\n",
       "      <th>southeast</th>\n",
       "      <th>southwest</th>\n",
       "    </tr>\n",
       "  </thead>\n",
       "  <tbody>\n",
       "    <tr>\n",
       "      <th>count</th>\n",
       "      <td>324.000000</td>\n",
       "      <td>325.000000</td>\n",
       "      <td>364.000000</td>\n",
       "      <td>325.000000</td>\n",
       "    </tr>\n",
       "    <tr>\n",
       "      <th>mean</th>\n",
       "      <td>29.173503</td>\n",
       "      <td>29.199785</td>\n",
       "      <td>33.355989</td>\n",
       "      <td>30.596615</td>\n",
       "    </tr>\n",
       "    <tr>\n",
       "      <th>std</th>\n",
       "      <td>5.937513</td>\n",
       "      <td>5.136765</td>\n",
       "      <td>6.477648</td>\n",
       "      <td>5.691836</td>\n",
       "    </tr>\n",
       "    <tr>\n",
       "      <th>min</th>\n",
       "      <td>15.960000</td>\n",
       "      <td>17.385000</td>\n",
       "      <td>19.800000</td>\n",
       "      <td>17.400000</td>\n",
       "    </tr>\n",
       "    <tr>\n",
       "      <th>25%</th>\n",
       "      <td>24.866250</td>\n",
       "      <td>25.745000</td>\n",
       "      <td>28.572500</td>\n",
       "      <td>26.900000</td>\n",
       "    </tr>\n",
       "    <tr>\n",
       "      <th>50%</th>\n",
       "      <td>28.880000</td>\n",
       "      <td>28.880000</td>\n",
       "      <td>33.330000</td>\n",
       "      <td>30.300000</td>\n",
       "    </tr>\n",
       "    <tr>\n",
       "      <th>75%</th>\n",
       "      <td>32.893750</td>\n",
       "      <td>32.775000</td>\n",
       "      <td>37.812500</td>\n",
       "      <td>34.600000</td>\n",
       "    </tr>\n",
       "    <tr>\n",
       "      <th>max</th>\n",
       "      <td>48.070000</td>\n",
       "      <td>42.940000</td>\n",
       "      <td>53.130000</td>\n",
       "      <td>47.600000</td>\n",
       "    </tr>\n",
       "  </tbody>\n",
       "</table>\n",
       "</div>"
      ],
      "text/plain": [
       "region   northeast   northwest   southeast   southwest\n",
       "count   324.000000  325.000000  364.000000  325.000000\n",
       "mean     29.173503   29.199785   33.355989   30.596615\n",
       "std       5.937513    5.136765    6.477648    5.691836\n",
       "min      15.960000   17.385000   19.800000   17.400000\n",
       "25%      24.866250   25.745000   28.572500   26.900000\n",
       "50%      28.880000   28.880000   33.330000   30.300000\n",
       "75%      32.893750   32.775000   37.812500   34.600000\n",
       "max      48.070000   42.940000   53.130000   47.600000"
      ]
     },
     "execution_count": 11,
     "metadata": {},
     "output_type": "execute_result"
    }
   ],
   "source": [
    "data.groupby('region').describe()['bmi'].transpose()"
   ]
  },
  {
   "cell_type": "markdown",
   "id": "a8e51348",
   "metadata": {
    "papermill": {
     "duration": 0.014796,
     "end_time": "2024-01-21T21:41:25.263340",
     "exception": false,
     "start_time": "2024-01-21T21:41:25.248544",
     "status": "completed"
    },
    "tags": []
   },
   "source": [
    "# Data Visutilization  \n",
    " * age\n",
    " * bmi\n",
    " * Charges\n",
    "# "
   ]
  },
  {
   "cell_type": "code",
   "execution_count": 12,
   "id": "386b6699",
   "metadata": {
    "execution": {
     "iopub.execute_input": "2024-01-21T21:41:25.295903Z",
     "iopub.status.busy": "2024-01-21T21:41:25.295470Z",
     "iopub.status.idle": "2024-01-21T21:41:25.806361Z",
     "shell.execute_reply": "2024-01-21T21:41:25.805132Z"
    },
    "papermill": {
     "duration": 0.530149,
     "end_time": "2024-01-21T21:41:25.808971",
     "exception": false,
     "start_time": "2024-01-21T21:41:25.278822",
     "status": "completed"
    },
    "tags": []
   },
   "outputs": [
    {
     "data": {
      "text/plain": [
       "<seaborn.axisgrid.FacetGrid at 0x78905b3fc520>"
      ]
     },
     "execution_count": 12,
     "metadata": {},
     "output_type": "execute_result"
    },
    {
     "data": {
      "image/png": "[encoded data removed]",
      "text/plain": [
       "<Figure size 500x500 with 1 Axes>"
      ]
     },
     "metadata": {},
     "output_type": "display_data"
    }
   ],
   "source": [
    "sns.displot(data['age'], kde = False, color= 'b')"
   ]
  },
  {
   "cell_type": "code",
   "execution_count": 13,
   "id": "119f96c3",
   "metadata": {
    "execution": {
     "iopub.execute_input": "2024-01-21T21:41:25.842673Z",
     "iopub.status.busy": "2024-01-21T21:41:25.842225Z",
     "iopub.status.idle": "2024-01-21T21:41:26.338193Z",
     "shell.execute_reply": "2024-01-21T21:41:26.336971Z"
    },
    "papermill": {
     "duration": 0.515808,
     "end_time": "2024-01-21T21:41:26.340832",
     "exception": false,
     "start_time": "2024-01-21T21:41:25.825024",
     "status": "completed"
    },
    "tags": []
   },
   "outputs": [
    {
     "data": {
      "text/plain": [
       "<seaborn.axisgrid.FacetGrid at 0x78905b3fdf00>"
      ]
     },
     "execution_count": 13,
     "metadata": {},
     "output_type": "execute_result"
    },
    {
     "data": {
      "image/png": "[encoded data removed]",
      "text/plain": [
       "<Figure size 500x500 with 1 Axes>"
      ]
     },
     "metadata": {},
     "output_type": "display_data"
    }
   ],
   "source": [
    "sns.displot(data['bmi'], kde = False, color= 'g')"
   ]
  },
  {
   "cell_type": "code",
   "execution_count": 14,
   "id": "e0583b71",
   "metadata": {
    "execution": {
     "iopub.execute_input": "2024-01-21T21:41:26.376437Z",
     "iopub.status.busy": "2024-01-21T21:41:26.375847Z",
     "iopub.status.idle": "2024-01-21T21:41:26.964008Z",
     "shell.execute_reply": "2024-01-21T21:41:26.962779Z"
    },
    "papermill": {
     "duration": 0.608815,
     "end_time": "2024-01-21T21:41:26.966716",
     "exception": false,
     "start_time": "2024-01-21T21:41:26.357901",
     "status": "completed"
    },
    "tags": []
   },
   "outputs": [
    {
     "data": {
      "text/plain": [
       "<seaborn.axisgrid.FacetGrid at 0x78903c601240>"
      ]
     },
     "execution_count": 14,
     "metadata": {},
     "output_type": "execute_result"
    },
    {
     "data": {
      "image/png": "[encoded data removed]",
      "text/plain": [
       "<Figure size 500x500 with 1 Axes>"
      ]
     },
     "metadata": {},
     "output_type": "display_data"
    }
   ],
   "source": [
    "sns.displot(data['charges'], kde = False, color= 'r')"
   ]
  },
  {
   "cell_type": "markdown",
   "id": "e589a88e",
   "metadata": {
    "papermill": {
     "duration": 0.017965,
     "end_time": "2024-01-21T21:41:27.064539",
     "exception": false,
     "start_time": "2024-01-21T21:41:27.046574",
     "status": "completed"
    },
    "tags": []
   },
   "source": [
    "# Categorial Features \n",
    "* Children \n",
    "* Sex\n",
    "* Smoker\n",
    "* reigion "
   ]
  },
  {
   "cell_type": "code",
   "execution_count": 15,
   "id": "f2d8624b",
   "metadata": {
    "execution": {
     "iopub.execute_input": "2024-01-21T21:41:27.101093Z",
     "iopub.status.busy": "2024-01-21T21:41:27.100693Z",
     "iopub.status.idle": "2024-01-21T21:41:27.362716Z",
     "shell.execute_reply": "2024-01-21T21:41:27.361497Z"
    },
    "papermill": {
     "duration": 0.283793,
     "end_time": "2024-01-21T21:41:27.365549",
     "exception": false,
     "start_time": "2024-01-21T21:41:27.081756",
     "status": "completed"
    },
    "tags": []
   },
   "outputs": [
    {
     "data": {
      "text/plain": [
       "<Axes: xlabel='sex', ylabel='count'>"
      ]
     },
     "execution_count": 15,
     "metadata": {},
     "output_type": "execute_result"
    },
    {
     "data": {
      "image/png": "[encoded data removed]",
      "text/plain": [
       "<Figure size 1500x500 with 1 Axes>"
      ]
     },
     "metadata": {},
     "output_type": "display_data"
    }
   ],
   "source": [
    "sns.countplot(x = 'sex', data= data , hue ='smoker')"
   ]
  },
  {
   "cell_type": "code",
   "execution_count": 16,
   "id": "dd341a07",
   "metadata": {
    "execution": {
     "iopub.execute_input": "2024-01-21T21:41:27.404903Z",
     "iopub.status.busy": "2024-01-21T21:41:27.404443Z",
     "iopub.status.idle": "2024-01-21T21:41:27.712143Z",
     "shell.execute_reply": "2024-01-21T21:41:27.710882Z"
    },
    "papermill": {
     "duration": 0.330299,
     "end_time": "2024-01-21T21:41:27.714596",
     "exception": false,
     "start_time": "2024-01-21T21:41:27.384297",
     "status": "completed"
    },
    "tags": []
   },
   "outputs": [
    {
     "data": {
      "text/plain": [
       "<Axes: xlabel='children', ylabel='count'>"
      ]
     },
     "execution_count": 16,
     "metadata": {},
     "output_type": "execute_result"
    },
    {
     "data": {
      "image/png": "[encoded data removed]",
      "text/plain": [
       "<Figure size 1500x500 with 1 Axes>"
      ]
     },
     "metadata": {},
     "output_type": "display_data"
    }
   ],
   "source": [
    "sns.countplot(x = 'children', data= data )"
   ]
  },
  {
   "cell_type": "code",
   "execution_count": 17,
   "id": "456692d2",
   "metadata": {
    "execution": {
     "iopub.execute_input": "2024-01-21T21:41:27.753988Z",
     "iopub.status.busy": "2024-01-21T21:41:27.753565Z",
     "iopub.status.idle": "2024-01-21T21:41:28.068805Z",
     "shell.execute_reply": "2024-01-21T21:41:28.065677Z"
    },
    "papermill": {
     "duration": 0.338921,
     "end_time": "2024-01-21T21:41:28.072264",
     "exception": false,
     "start_time": "2024-01-21T21:41:27.733343",
     "status": "completed"
    },
    "tags": []
   },
   "outputs": [
    {
     "data": {
      "text/plain": [
       "<Axes: xlabel='sex', ylabel='count'>"
      ]
     },
     "execution_count": 17,
     "metadata": {},
     "output_type": "execute_result"
    },
    {
     "data": {
      "image/png": "[encoded data removed]",
      "text/plain": [
       "<Figure size 1500x500 with 1 Axes>"
      ]
     },
     "metadata": {},
     "output_type": "display_data"
    }
   ],
   "source": [
    "sns.countplot(x = 'sex', data= data , hue ='smoker')"
   ]
  },
  {
   "cell_type": "code",
   "execution_count": 18,
   "id": "654e6916",
   "metadata": {
    "execution": {
     "iopub.execute_input": "2024-01-21T21:41:28.126353Z",
     "iopub.status.busy": "2024-01-21T21:41:28.125922Z",
     "iopub.status.idle": "2024-01-21T21:41:28.394167Z",
     "shell.execute_reply": "2024-01-21T21:41:28.393035Z"
    },
    "papermill": {
     "duration": 0.299598,
     "end_time": "2024-01-21T21:41:28.396529",
     "exception": false,
     "start_time": "2024-01-21T21:41:28.096931",
     "status": "completed"
    },
    "tags": []
   },
   "outputs": [
    {
     "data": {
      "text/plain": [
       "<Axes: xlabel='smoker', ylabel='count'>"
      ]
     },
     "execution_count": 18,
     "metadata": {},
     "output_type": "execute_result"
    },
    {
     "data": {
      "image/png": "[encoded data removed]",
      "text/plain": [
       "<Figure size 1500x500 with 1 Axes>"
      ]
     },
     "metadata": {},
     "output_type": "display_data"
    }
   ],
   "source": [
    "sns.countplot(x = 'smoker', data= data)"
   ]
  },
  {
   "cell_type": "code",
   "execution_count": 19,
   "id": "a64d3e9e",
   "metadata": {
    "execution": {
     "iopub.execute_input": "2024-01-21T21:41:28.439647Z",
     "iopub.status.busy": "2024-01-21T21:41:28.439240Z",
     "iopub.status.idle": "2024-01-21T21:41:28.861495Z",
     "shell.execute_reply": "2024-01-21T21:41:28.860695Z"
    },
    "papermill": {
     "duration": 0.447618,
     "end_time": "2024-01-21T21:41:28.864945",
     "exception": false,
     "start_time": "2024-01-21T21:41:28.417327",
     "status": "completed"
    },
    "tags": []
   },
   "outputs": [
    {
     "data": {
      "text/plain": [
       "<Axes: xlabel='region', ylabel='count'>"
      ]
     },
     "execution_count": 19,
     "metadata": {},
     "output_type": "execute_result"
    },
    {
     "data": {
      "image/png": "[encoded data removed]",
      "text/plain": [
       "<Figure size 1500x500 with 1 Axes>"
      ]
     },
     "metadata": {},
     "output_type": "display_data"
    }
   ],
   "source": [
    "sns.countplot(x = 'region', data= data )"
   ]
  },
  {
   "cell_type": "code",
   "execution_count": 20,
   "id": "dd2d7b1a",
   "metadata": {
    "execution": {
     "iopub.execute_input": "2024-01-21T21:41:28.919847Z",
     "iopub.status.busy": "2024-01-21T21:41:28.919344Z",
     "iopub.status.idle": "2024-01-21T21:41:29.312370Z",
     "shell.execute_reply": "2024-01-21T21:41:29.311202Z"
    },
    "papermill": {
     "duration": 0.420305,
     "end_time": "2024-01-21T21:41:29.315138",
     "exception": false,
     "start_time": "2024-01-21T21:41:28.894833",
     "status": "completed"
    },
    "tags": []
   },
   "outputs": [
    {
     "data": {
      "text/plain": [
       "<Axes: xlabel='sex', ylabel='charges'>"
      ]
     },
     "execution_count": 20,
     "metadata": {},
     "output_type": "execute_result"
    },
    {
     "data": {
      "image/png": "[encoded data removed]",
      "text/plain": [
       "<Figure size 1500x500 with 1 Axes>"
      ]
     },
     "metadata": {},
     "output_type": "display_data"
    }
   ],
   "source": [
    "sns.boxplot(x = 'sex',y = 'charges', data= data, hue ='smoker' )"
   ]
  },
  {
   "cell_type": "code",
   "execution_count": 21,
   "id": "6463f57f",
   "metadata": {
    "execution": {
     "iopub.execute_input": "2024-01-21T21:41:29.360592Z",
     "iopub.status.busy": "2024-01-21T21:41:29.359871Z",
     "iopub.status.idle": "2024-01-21T21:41:29.733488Z",
     "shell.execute_reply": "2024-01-21T21:41:29.732358Z"
    },
    "papermill": {
     "duration": 0.39982,
     "end_time": "2024-01-21T21:41:29.736468",
     "exception": false,
     "start_time": "2024-01-21T21:41:29.336648",
     "status": "completed"
    },
    "tags": []
   },
   "outputs": [
    {
     "data": {
      "text/plain": [
       "<Axes: xlabel='children', ylabel='charges'>"
      ]
     },
     "execution_count": 21,
     "metadata": {},
     "output_type": "execute_result"
    },
    {
     "data": {
      "image/png": "[encoded data removed]",
      "text/plain": [
       "<Figure size 1500x500 with 1 Axes>"
      ]
     },
     "metadata": {},
     "output_type": "display_data"
    }
   ],
   "source": [
    "sns.boxplot(x = 'children',y = 'charges', data= data)"
   ]
  },
  {
   "cell_type": "code",
   "execution_count": 22,
   "id": "e37f4dda",
   "metadata": {
    "execution": {
     "iopub.execute_input": "2024-01-21T21:41:29.784577Z",
     "iopub.status.busy": "2024-01-21T21:41:29.783867Z",
     "iopub.status.idle": "2024-01-21T21:41:30.079382Z",
     "shell.execute_reply": "2024-01-21T21:41:30.078164Z"
    },
    "papermill": {
     "duration": 0.322356,
     "end_time": "2024-01-21T21:41:30.081852",
     "exception": false,
     "start_time": "2024-01-21T21:41:29.759496",
     "status": "completed"
    },
    "tags": []
   },
   "outputs": [
    {
     "data": {
      "text/plain": [
       "<Axes: xlabel='smoker', ylabel='charges'>"
      ]
     },
     "execution_count": 22,
     "metadata": {},
     "output_type": "execute_result"
    },
    {
     "data": {
      "image/png": "[encoded data removed]",
      "text/plain": [
       "<Figure size 1500x500 with 1 Axes>"
      ]
     },
     "metadata": {},
     "output_type": "display_data"
    }
   ],
   "source": [
    "sns.boxplot(x = 'smoker',y = 'charges', data= data)"
   ]
  },
  {
   "cell_type": "code",
   "execution_count": 23,
   "id": "4b967b55",
   "metadata": {
    "execution": {
     "iopub.execute_input": "2024-01-21T21:41:30.129583Z",
     "iopub.status.busy": "2024-01-21T21:41:30.129178Z",
     "iopub.status.idle": "2024-01-21T21:41:30.468371Z",
     "shell.execute_reply": "2024-01-21T21:41:30.467052Z"
    },
    "papermill": {
     "duration": 0.366797,
     "end_time": "2024-01-21T21:41:30.471661",
     "exception": false,
     "start_time": "2024-01-21T21:41:30.104864",
     "status": "completed"
    },
    "tags": []
   },
   "outputs": [
    {
     "data": {
      "text/plain": [
       "<Axes: xlabel='region', ylabel='charges'>"
      ]
     },
     "execution_count": 23,
     "metadata": {},
     "output_type": "execute_result"
    },
    {
     "data": {
      "image/png": "[encoded data removed]",
      "text/plain": [
       "<Figure size 1500x500 with 1 Axes>"
      ]
     },
     "metadata": {},
     "output_type": "display_data"
    }
   ],
   "source": [
    "sns.boxplot(x = 'region',y = 'charges', data= data)"
   ]
  },
  {
   "cell_type": "markdown",
   "id": "121cbbb5",
   "metadata": {
    "papermill": {
     "duration": 0.024099,
     "end_time": "2024-01-21T21:41:30.521798",
     "exception": false,
     "start_time": "2024-01-21T21:41:30.497699",
     "status": "completed"
    },
    "tags": []
   },
   "source": [
    "# Encoding Categorical Attributes"
   ]
  },
  {
   "cell_type": "code",
   "execution_count": 24,
   "id": "4f567e03",
   "metadata": {
    "execution": {
     "iopub.execute_input": "2024-01-21T21:41:30.572096Z",
     "iopub.status.busy": "2024-01-21T21:41:30.571708Z",
     "iopub.status.idle": "2024-01-21T21:41:30.752077Z",
     "shell.execute_reply": "2024-01-21T21:41:30.750867Z"
    },
    "papermill": {
     "duration": 0.208791,
     "end_time": "2024-01-21T21:41:30.754806",
     "exception": false,
     "start_time": "2024-01-21T21:41:30.546015",
     "status": "completed"
    },
    "tags": []
   },
   "outputs": [
    {
     "data": {
      "text/html": [
       "<div>\n",
       "<style scoped>\n",
       "    .dataframe tbody tr th:only-of-type {\n",
       "        vertical-align: middle;\n",
       "    }\n",
       "\n",
       "    .dataframe tbody tr th {\n",
       "        vertical-align: top;\n",
       "    }\n",
       "\n",
       "    .dataframe thead th {\n",
       "        text-align: right;\n",
       "    }\n",
       "</style>\n",
       "<table border=\"1\" class=\"dataframe\">\n",
       "  <thead>\n",
       "    <tr style=\"text-align: right;\">\n",
       "      <th></th>\n",
       "      <th>age</th>\n",
       "      <th>sex</th>\n",
       "      <th>bmi</th>\n",
       "      <th>children</th>\n",
       "      <th>smoker</th>\n",
       "      <th>region</th>\n",
       "      <th>charges</th>\n",
       "    </tr>\n",
       "  </thead>\n",
       "  <tbody>\n",
       "    <tr>\n",
       "      <th>0</th>\n",
       "      <td>19</td>\n",
       "      <td>0</td>\n",
       "      <td>27.900</td>\n",
       "      <td>0</td>\n",
       "      <td>1</td>\n",
       "      <td>southwest</td>\n",
       "      <td>16884.92400</td>\n",
       "    </tr>\n",
       "    <tr>\n",
       "      <th>1</th>\n",
       "      <td>18</td>\n",
       "      <td>1</td>\n",
       "      <td>33.770</td>\n",
       "      <td>1</td>\n",
       "      <td>0</td>\n",
       "      <td>southeast</td>\n",
       "      <td>1725.55230</td>\n",
       "    </tr>\n",
       "    <tr>\n",
       "      <th>2</th>\n",
       "      <td>28</td>\n",
       "      <td>1</td>\n",
       "      <td>33.000</td>\n",
       "      <td>3</td>\n",
       "      <td>0</td>\n",
       "      <td>southeast</td>\n",
       "      <td>4449.46200</td>\n",
       "    </tr>\n",
       "    <tr>\n",
       "      <th>3</th>\n",
       "      <td>33</td>\n",
       "      <td>1</td>\n",
       "      <td>22.705</td>\n",
       "      <td>0</td>\n",
       "      <td>0</td>\n",
       "      <td>northwest</td>\n",
       "      <td>21984.47061</td>\n",
       "    </tr>\n",
       "    <tr>\n",
       "      <th>4</th>\n",
       "      <td>32</td>\n",
       "      <td>1</td>\n",
       "      <td>28.880</td>\n",
       "      <td>0</td>\n",
       "      <td>0</td>\n",
       "      <td>northwest</td>\n",
       "      <td>3866.85520</td>\n",
       "    </tr>\n",
       "  </tbody>\n",
       "</table>\n",
       "</div>"
      ],
      "text/plain": [
       "   age  sex     bmi  children  smoker     region      charges\n",
       "0   19    0  27.900         0       1  southwest  16884.92400\n",
       "1   18    1  33.770         1       0  southeast   1725.55230\n",
       "2   28    1  33.000         3       0  southeast   4449.46200\n",
       "3   33    1  22.705         0       0  northwest  21984.47061\n",
       "4   32    1  28.880         0       0  northwest   3866.85520"
      ]
     },
     "execution_count": 24,
     "metadata": {},
     "output_type": "execute_result"
    }
   ],
   "source": [
    "from sklearn.preprocessing import LabelEncoder\n",
    "labelEncoder = LabelEncoder()\n",
    "data[\"sex\"] = labelEncoder.fit_transform(data[\"sex\"])\n",
    "data[\"smoker\"] = labelEncoder.fit_transform(data[\"smoker\"])\n",
    "data.head()"
   ]
  },
  {
   "cell_type": "code",
   "execution_count": 25,
   "id": "6bb84e4f",
   "metadata": {
    "execution": {
     "iopub.execute_input": "2024-01-21T21:41:30.807363Z",
     "iopub.status.busy": "2024-01-21T21:41:30.806357Z",
     "iopub.status.idle": "2024-01-21T21:41:30.830207Z",
     "shell.execute_reply": "2024-01-21T21:41:30.829236Z"
    },
    "papermill": {
     "duration": 0.052938,
     "end_time": "2024-01-21T21:41:30.832755",
     "exception": false,
     "start_time": "2024-01-21T21:41:30.779817",
     "status": "completed"
    },
    "tags": []
   },
   "outputs": [],
   "source": [
    "from sklearn.preprocessing import OneHotEncoder\n",
    "from sklearn.compose import ColumnTransformer\n",
    "columnTransformer = ColumnTransformer(transformers = [('encoder',OneHotEncoder(),[5])], remainder=\"passthrough\")\n",
    "datavalues = columnTransformer.fit_transform(data)"
   ]
  },
  {
   "cell_type": "code",
   "execution_count": 26,
   "id": "609816a7",
   "metadata": {
    "execution": {
     "iopub.execute_input": "2024-01-21T21:41:30.883406Z",
     "iopub.status.busy": "2024-01-21T21:41:30.882952Z",
     "iopub.status.idle": "2024-01-21T21:41:30.889154Z",
     "shell.execute_reply": "2024-01-21T21:41:30.887491Z"
    },
    "papermill": {
     "duration": 0.034577,
     "end_time": "2024-01-21T21:41:30.891815",
     "exception": false,
     "start_time": "2024-01-21T21:41:30.857238",
     "status": "completed"
    },
    "tags": []
   },
   "outputs": [],
   "source": [
    "X = datavalues[:,:-1]\n",
    "y = datavalues[:,-1]"
   ]
  },
  {
   "cell_type": "code",
   "execution_count": 27,
   "id": "4d5960ba",
   "metadata": {
    "execution": {
     "iopub.execute_input": "2024-01-21T21:41:30.942279Z",
     "iopub.status.busy": "2024-01-21T21:41:30.941877Z",
     "iopub.status.idle": "2024-01-21T21:41:30.947869Z",
     "shell.execute_reply": "2024-01-21T21:41:30.946641Z"
    },
    "papermill": {
     "duration": 0.034548,
     "end_time": "2024-01-21T21:41:30.950573",
     "exception": false,
     "start_time": "2024-01-21T21:41:30.916025",
     "status": "completed"
    },
    "tags": []
   },
   "outputs": [
    {
     "name": "stdout",
     "output_type": "stream",
     "text": [
      "(1338, 9)\n",
      "(1338,)\n"
     ]
    }
   ],
   "source": [
    "print(X.shape)\n",
    "print(y.shape)"
   ]
  },
  {
   "cell_type": "markdown",
   "id": "7882b680",
   "metadata": {
    "papermill": {
     "duration": 0.023955,
     "end_time": "2024-01-21T21:41:30.999104",
     "exception": false,
     "start_time": "2024-01-21T21:41:30.975149",
     "status": "completed"
    },
    "tags": []
   },
   "source": [
    "# Train Test Split Data"
   ]
  },
  {
   "cell_type": "code",
   "execution_count": 28,
   "id": "1efe6e8c",
   "metadata": {
    "execution": {
     "iopub.execute_input": "2024-01-21T21:41:31.049131Z",
     "iopub.status.busy": "2024-01-21T21:41:31.048731Z",
     "iopub.status.idle": "2024-01-21T21:41:31.170968Z",
     "shell.execute_reply": "2024-01-21T21:41:31.169576Z"
    },
    "papermill": {
     "duration": 0.15023,
     "end_time": "2024-01-21T21:41:31.173505",
     "exception": false,
     "start_time": "2024-01-21T21:41:31.023275",
     "status": "completed"
    },
    "tags": []
   },
   "outputs": [
    {
     "name": "stdout",
     "output_type": "stream",
     "text": [
      "(1003, 9)\n",
      "(335, 9)\n"
     ]
    }
   ],
   "source": [
    "from sklearn.model_selection import train_test_split\n",
    "X_train, X_test, y_train, y_test = train_test_split(X,y, test_size = 0.25, random_state=11)\n",
    "print(X_train.shape)\n",
    "print(X_test.shape)"
   ]
  },
  {
   "cell_type": "code",
   "execution_count": 29,
   "id": "f367e872",
   "metadata": {
    "execution": {
     "iopub.execute_input": "2024-01-21T21:41:31.225171Z",
     "iopub.status.busy": "2024-01-21T21:41:31.224775Z",
     "iopub.status.idle": "2024-01-21T21:41:31.233986Z",
     "shell.execute_reply": "2024-01-21T21:41:31.233070Z"
    },
    "papermill": {
     "duration": 0.03831,
     "end_time": "2024-01-21T21:41:31.236504",
     "exception": false,
     "start_time": "2024-01-21T21:41:31.198194",
     "status": "completed"
    },
    "tags": []
   },
   "outputs": [],
   "source": [
    "from sklearn.preprocessing import StandardScaler\n",
    "st_X = StandardScaler()\n",
    "st_Y = StandardScaler()\n",
    "X_train = st_X.fit_transform(X_train)\n",
    "X_test = st_X.transform(X_test)\n",
    "y_train = st_Y.fit_transform(y_train.reshape(-1,1))\n",
    "y_test = st_Y.transform(y_test.reshape(-1,1))"
   ]
  },
  {
   "cell_type": "code",
   "execution_count": 30,
   "id": "d5f3eb79",
   "metadata": {
    "execution": {
     "iopub.execute_input": "2024-01-21T21:41:31.288015Z",
     "iopub.status.busy": "2024-01-21T21:41:31.287579Z",
     "iopub.status.idle": "2024-01-21T21:41:31.711042Z",
     "shell.execute_reply": "2024-01-21T21:41:31.709722Z"
    },
    "papermill": {
     "duration": 0.452115,
     "end_time": "2024-01-21T21:41:31.713654",
     "exception": false,
     "start_time": "2024-01-21T21:41:31.261539",
     "status": "completed"
    },
    "tags": []
   },
   "outputs": [
    {
     "data": {
      "text/html": [
       "<style>#sk-container-id-1 {color: black;background-color: white;}#sk-container-id-1 pre{padding: 0;}#sk-container-id-1 div.sk-toggleable {background-color: white;}#sk-container-id-1 label.sk-toggleable__label {cursor: pointer;display: block;width: 100%;margin-bottom: 0;padding: 0.3em;box-sizing: border-box;text-align: center;}#sk-container-id-1 label.sk-toggleable__label-arrow:before {content: \"▸\";float: left;margin-right: 0.25em;color: #696969;}#sk-container-id-1 label.sk-toggleable__label-arrow:hover:before {color: black;}#sk-container-id-1 div.sk-estimator:hover label.sk-toggleable__label-arrow:before {color: black;}#sk-container-id-1 div.sk-toggleable__content {max-height: 0;max-width: 0;overflow: hidden;text-align: left;background-color: #f0f8ff;}#sk-container-id-1 div.sk-toggleable__content pre {margin: 0.2em;color: black;border-radius: 0.25em;background-color: #f0f8ff;}#sk-container-id-1 input.sk-toggleable__control:checked~div.sk-toggleable__content {max-height: 200px;max-width: 100%;overflow: auto;}#sk-container-id-1 input.sk-toggleable__control:checked~label.sk-toggleable__label-arrow:before {content: \"▾\";}#sk-container-id-1 div.sk-estimator input.sk-toggleable__control:checked~label.sk-toggleable__label {background-color: #d4ebff;}#sk-container-id-1 div.sk-label input.sk-toggleable__control:checked~label.sk-toggleable__label {background-color: #d4ebff;}#sk-container-id-1 input.sk-hidden--visually {border: 0;clip: rect(1px 1px 1px 1px);clip: rect(1px, 1px, 1px, 1px);height: 1px;margin: -1px;overflow: hidden;padding: 0;position: absolute;width: 1px;}#sk-container-id-1 div.sk-estimator {font-family: monospace;background-color: #f0f8ff;border: 1px dotted black;border-radius: 0.25em;box-sizing: border-box;margin-bottom: 0.5em;}#sk-container-id-1 div.sk-estimator:hover {background-color: #d4ebff;}#sk-container-id-1 div.sk-parallel-item::after {content: \"\";width: 100%;border-bottom: 1px solid gray;flex-grow: 1;}#sk-container-id-1 div.sk-label:hover label.sk-toggleable__label {background-color: #d4ebff;}#sk-container-id-1 div.sk-serial::before {content: \"\";position: absolute;border-left: 1px solid gray;box-sizing: border-box;top: 0;bottom: 0;left: 50%;z-index: 0;}#sk-container-id-1 div.sk-serial {display: flex;flex-direction: column;align-items: center;background-color: white;padding-right: 0.2em;padding-left: 0.2em;position: relative;}#sk-container-id-1 div.sk-item {position: relative;z-index: 1;}#sk-container-id-1 div.sk-parallel {display: flex;align-items: stretch;justify-content: center;background-color: white;position: relative;}#sk-container-id-1 div.sk-item::before, #sk-container-id-1 div.sk-parallel-item::before {content: \"\";position: absolute;border-left: 1px solid gray;box-sizing: border-box;top: 0;bottom: 0;left: 50%;z-index: -1;}#sk-container-id-1 div.sk-parallel-item {display: flex;flex-direction: column;z-index: 1;position: relative;background-color: white;}#sk-container-id-1 div.sk-parallel-item:first-child::after {align-self: flex-end;width: 50%;}#sk-container-id-1 div.sk-parallel-item:last-child::after {align-self: flex-start;width: 50%;}#sk-container-id-1 div.sk-parallel-item:only-child::after {width: 0;}#sk-container-id-1 div.sk-dashed-wrapped {border: 1px dashed gray;margin: 0 0.4em 0.5em 0.4em;box-sizing: border-box;padding-bottom: 0.4em;background-color: white;}#sk-container-id-1 div.sk-label label {font-family: monospace;font-weight: bold;display: inline-block;line-height: 1.2em;}#sk-container-id-1 div.sk-label-container {text-align: center;}#sk-container-id-1 div.sk-container {/* jupyter's `normalize.less` sets `[hidden] { display: none; }` but bootstrap.min.css set `[hidden] { display: none !important; }` so we also need the `!important` here to be able to override the default hidden behavior on the sphinx rendered scikit-learn.org. See: https://github.com/scikit-learn/scikit-learn/issues/21755 */display: inline-block !important;position: relative;}#sk-container-id-1 div.sk-text-repr-fallback {display: none;}</style><div id=\"sk-container-id-1\" class=\"sk-top-container\"><div class=\"sk-text-repr-fallback\"><pre>GradientBoostingRegressor()</pre><b>In a Jupyter environment, please rerun this cell to show the HTML representation or trust the notebook. <br />On GitHub, the HTML representation is unable to render, please try loading this page with nbviewer.org.</b></div><div class=\"sk-container\" hidden><div class=\"sk-item\"><div class=\"sk-estimator sk-toggleable\"><input class=\"sk-toggleable__control sk-hidden--visually\" id=\"sk-estimator-id-1\" type=\"checkbox\" checked><label for=\"sk-estimator-id-1\" class=\"sk-toggleable__label sk-toggleable__label-arrow\">GradientBoostingRegressor</label><div class=\"sk-toggleable__content\"><pre>GradientBoostingRegressor()</pre></div></div></div></div></div>"
      ],
      "text/plain": [
       "GradientBoostingRegressor()"
      ]
     },
     "execution_count": 30,
     "metadata": {},
     "output_type": "execute_result"
    }
   ],
   "source": [
    "from sklearn.ensemble import GradientBoostingRegressor\n",
    "gbr = GradientBoostingRegressor()\n",
    "gbr.fit(X_train,y_train)"
   ]
  },
  {
   "cell_type": "code",
   "execution_count": 31,
   "id": "78b3b0d9",
   "metadata": {
    "execution": {
     "iopub.execute_input": "2024-01-21T21:41:31.766577Z",
     "iopub.status.busy": "2024-01-21T21:41:31.766179Z",
     "iopub.status.idle": "2024-01-21T21:41:31.772638Z",
     "shell.execute_reply": "2024-01-21T21:41:31.771437Z"
    },
    "papermill": {
     "duration": 0.035619,
     "end_time": "2024-01-21T21:41:31.775262",
     "exception": false,
     "start_time": "2024-01-21T21:41:31.739643",
     "status": "completed"
    },
    "tags": []
   },
   "outputs": [],
   "source": [
    "y_pred = gbr.predict(X_test)"
   ]
  },
  {
   "cell_type": "markdown",
   "id": "c46c19f8",
   "metadata": {
    "papermill": {
     "duration": 0.024415,
     "end_time": "2024-01-21T21:41:31.825109",
     "exception": false,
     "start_time": "2024-01-21T21:41:31.800694",
     "status": "completed"
    },
    "tags": []
   },
   "source": [
    "# Evaluating the model"
   ]
  },
  {
   "cell_type": "code",
   "execution_count": 32,
   "id": "c8e5a512",
   "metadata": {
    "execution": {
     "iopub.execute_input": "2024-01-21T21:41:31.876720Z",
     "iopub.status.busy": "2024-01-21T21:41:31.876279Z",
     "iopub.status.idle": "2024-01-21T21:41:41.911338Z",
     "shell.execute_reply": "2024-01-21T21:41:41.909634Z"
    },
    "papermill": {
     "duration": 10.064299,
     "end_time": "2024-01-21T21:41:41.914077",
     "exception": false,
     "start_time": "2024-01-21T21:41:31.849778",
     "status": "completed"
    },
    "tags": []
   },
   "outputs": [
    {
     "name": "stdout",
     "output_type": "stream",
     "text": [
      "Mean Absolute Error: 0.1976689339770276\n",
      "Mean Squared Error: 0.1122479228831183\n",
      "Root Mean Squared Error: 0.3350342115114788\n",
      "R Squared Value: 0.8807012279102984\n"
     ]
    }
   ],
   "source": [
    "from sklearn.model_selection import GridSearchCV\n",
    "from sklearn.ensemble import GradientBoostingRegressor\n",
    "from sklearn.preprocessing import StandardScaler\n",
    "from sklearn.pipeline import Pipeline\n",
    "from sklearn.metrics import mean_absolute_error, mean_squared_error, r2_score\n",
    "import warnings\n",
    "from sklearn.exceptions import ConvergenceWarning\n",
    "import numpy as np\n",
    "\n",
    "# Ignore ConvergenceWarning\n",
    "warnings.filterwarnings(\"ignore\", category=ConvergenceWarning)\n",
    "y_train = y_train.ravel()\n",
    "y_test = y_test.ravel()\n",
    "\n",
    "pipeline = Pipeline([\n",
    "    ('scaler', StandardScaler()),\n",
    "    ('gbr', GradientBoostingRegressor())\n",
    "])\n",
    "\n",
    "# Define hyperparameters to search\n",
    "param_grid = {\n",
    "    'gbr__n_estimators': [50, 100, 200],\n",
    "    'gbr__learning_rate': [0.01, 0.1, 0.2],\n",
    "    'gbr__max_depth': [3, 4, 5]\n",
    "}\n",
    "\n",
    "# Use GridSearchCV to find the best hyperparameters\n",
    "grid_search = GridSearchCV(pipeline, param_grid, cv=5, scoring='neg_mean_squared_error', n_jobs=-1)\n",
    "grid_search.fit(X_train, y_train)\n",
    "\n",
    "# Get the best model from the search\n",
    "best_model = grid_search.best_estimator_\n",
    "\n",
    "# Fit the best model to the training data\n",
    "best_model.fit(X_train, y_train)\n",
    "\n",
    "# Make predictions on the test set\n",
    "y_pred_best = best_model.predict(X_test)\n",
    "\n",
    "# Evaluate the performance of the best model\n",
    "print(\"Mean Absolute Error:\", mean_absolute_error(y_test, y_pred_best))\n",
    "print(\"Mean Squared Error:\", mean_squared_error(y_test, y_pred_best))\n",
    "print(\"Root Mean Squared Error:\", np.sqrt(mean_squared_error(y_test, y_pred_best)))\n",
    "print(\"R Squared Value:\", r2_score(y_test, y_pred_best))\n"
   ]
  },
  {
   "cell_type": "markdown",
   "id": "4d99eacd",
   "metadata": {
    "papermill": {
     "duration": 0.024815,
     "end_time": "2024-01-21T21:41:41.964651",
     "exception": false,
     "start_time": "2024-01-21T21:41:41.939836",
     "status": "completed"
    },
    "tags": []
   },
   "source": [
    "# Comparing The Actual And Predicted Values"
   ]
  },
  {
   "cell_type": "code",
   "execution_count": 33,
   "id": "6d52116d",
   "metadata": {
    "execution": {
     "iopub.execute_input": "2024-01-21T21:41:42.017004Z",
     "iopub.status.busy": "2024-01-21T21:41:42.016552Z",
     "iopub.status.idle": "2024-01-21T21:41:42.030446Z",
     "shell.execute_reply": "2024-01-21T21:41:42.029393Z"
    },
    "papermill": {
     "duration": 0.042807,
     "end_time": "2024-01-21T21:41:42.032583",
     "exception": false,
     "start_time": "2024-01-21T21:41:41.989776",
     "status": "completed"
    },
    "tags": []
   },
   "outputs": [
    {
     "data": {
      "text/html": [
       "<div>\n",
       "<style scoped>\n",
       "    .dataframe tbody tr th:only-of-type {\n",
       "        vertical-align: middle;\n",
       "    }\n",
       "\n",
       "    .dataframe tbody tr th {\n",
       "        vertical-align: top;\n",
       "    }\n",
       "\n",
       "    .dataframe thead th {\n",
       "        text-align: right;\n",
       "    }\n",
       "</style>\n",
       "<table border=\"1\" class=\"dataframe\">\n",
       "  <thead>\n",
       "    <tr style=\"text-align: right;\">\n",
       "      <th></th>\n",
       "      <th>Actual</th>\n",
       "      <th>Predicted</th>\n",
       "    </tr>\n",
       "  </thead>\n",
       "  <tbody>\n",
       "    <tr>\n",
       "      <th>0</th>\n",
       "      <td>1.888680</td>\n",
       "      <td>1.868848</td>\n",
       "    </tr>\n",
       "    <tr>\n",
       "      <th>1</th>\n",
       "      <td>-0.733918</td>\n",
       "      <td>-0.598851</td>\n",
       "    </tr>\n",
       "    <tr>\n",
       "      <th>2</th>\n",
       "      <td>-0.469525</td>\n",
       "      <td>-0.392621</td>\n",
       "    </tr>\n",
       "    <tr>\n",
       "      <th>3</th>\n",
       "      <td>-0.360760</td>\n",
       "      <td>-0.285332</td>\n",
       "    </tr>\n",
       "    <tr>\n",
       "      <th>4</th>\n",
       "      <td>-0.311786</td>\n",
       "      <td>-0.273934</td>\n",
       "    </tr>\n",
       "  </tbody>\n",
       "</table>\n",
       "</div>"
      ],
      "text/plain": [
       "     Actual  Predicted\n",
       "0  1.888680   1.868848\n",
       "1 -0.733918  -0.598851\n",
       "2 -0.469525  -0.392621\n",
       "3 -0.360760  -0.285332\n",
       "4 -0.311786  -0.273934"
      ]
     },
     "execution_count": 33,
     "metadata": {},
     "output_type": "execute_result"
    }
   ],
   "source": [
    "compare = pd.DataFrame({\"Actual\": y_test.ravel(), \"Predicted\": y_pred_best.ravel()})\n",
    "compare.head()"
   ]
  },
  {
   "cell_type": "markdown",
   "id": "26589f67",
   "metadata": {
    "papermill": {
     "duration": 0.025099,
     "end_time": "2024-01-21T21:41:42.083207",
     "exception": false,
     "start_time": "2024-01-21T21:41:42.058108",
     "status": "completed"
    },
    "tags": []
   },
   "source": [
    "# If you liked the notebook and found it useful to learn, give an upvote 👍🏻:)"
   ]
  }
 ],
 "metadata": {
  "kaggle": {
   "accelerator": "none",
   "dataSources": [
    {
     "datasetId": 1045743,
     "sourceId": 1759227,
     "sourceType": "datasetVersion"
    }
   ],
   "dockerImageVersionId": 30635,
   "isGpuEnabled": false,
   "isInternetEnabled": true,
   "language": "python",
   "sourceType": "notebook"
  },
  "kernelspec": {
   "display_name": "Python 3",
   "language": "python",
   "name": "python3"
  },
  "language_info": {
   "codemirror_mode": {
    "name": "ipython",
    "version": 3
   },
   "file_extension": ".py",
   "mimetype": "text/x-python",
   "name": "python",
   "nbconvert_exporter": "python",
   "pygments_lexer": "ipython3",
   "version": "3.10.12"
  },
  "papermill": {
   "default_parameters": {},
   "duration": 26.855286,
   "end_time": "2024-01-21T21:41:44.730933",
   "environment_variables": {},
   "exception": null,
   "input_path": "__notebook__.ipynb",
   "output_path": "__notebook__.ipynb",
   "parameters": {},
   "start_time": "2024-01-21T21:41:17.875647",
   "version": "2.4.0"
  }
 },
 "nbformat": 4,
 "nbformat_minor": 5
}
